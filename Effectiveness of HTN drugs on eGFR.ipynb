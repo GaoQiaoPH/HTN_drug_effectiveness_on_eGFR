{
 "cells": [
  {
   "cell_type": "markdown",
   "id": "9c88d3d7",
   "metadata": {},
   "source": [
    "# Set parameters & Load data"
   ]
  },
  {
   "cell_type": "code",
   "execution_count": null,
   "id": "29edfbb1",
   "metadata": {},
   "outputs": [],
   "source": [
    "import pandas as pd\n",
    "import numpy as np\n",
    "np.random.seed(666)\n",
    "import matplotlib.pyplot as plt\n",
    "from tqdm import tqdm\n",
    "tqdm.pandas()\n",
    "\n",
    "from sksurv.nonparametric import kaplan_meier_estimator\n",
    "\n",
    "# from lifelines import KaplanMeierFitter\n",
    "from lifelines import CoxPHFitter\n",
    "\n",
    "%config InlineBackend.figure_format ='retina'\n",
    "pd.set_option('display.max_columns', None)"
   ]
  },
  {
   "cell_type": "code",
   "execution_count": null,
   "id": "f6b31ac6",
   "metadata": {},
   "outputs": [],
   "source": [
    "%load_ext autoreload\n",
    "%autoreload 2\n",
    "from constants import *"
   ]
  },
  {
   "cell_type": "code",
   "execution_count": null,
   "id": "398274c5",
   "metadata": {},
   "outputs": [],
   "source": [
    "from helper import *\n",
    "from basic_feature_extraction import *\n",
    "from data_extraction import *\n",
    "from bc_comparator import *\n",
    "from ps_estimator import *\n",
    "from eGFR_mean_curve import *\n",
    "from KM_estimator import *\n",
    "from cox_regression import *"
   ]
  },
  {
   "cell_type": "code",
   "execution_count": null,
   "id": "684a8f37",
   "metadata": {},
   "outputs": [],
   "source": [
    "#load data\n",
    "eGFR_df = pd.read_pickle(PRO_PATH+BIO_COL+'_df.pklz', compression = 'gzip')\n",
    "first_last_date_df = pd.read_pickle(PRO_PATH+'first_last_date_df.pkl')\n",
    "DHL_date_df = pd.read_pickle(RAW_PATH+'patType_diagnosticDate.pklz', compression = 'gzip')\n",
    "medHTN_df = pd.read_pickle(PRO_PATH+'medHTN_class_df_GQ_classification.pklz', compression = 'gzip')"
   ]
  },
  {
   "cell_type": "code",
   "execution_count": null,
   "id": "bfb75e92",
   "metadata": {},
   "outputs": [],
   "source": [
    "medDM_df = pd.read_pickle(PRO_PATH+'medDM_df.pklz', compression = 'gzip')\n",
    "medHLD_df = pd.read_pickle(PRO_PATH+'medHLD_df.pklz', compression = 'gzip')"
   ]
  },
  {
   "cell_type": "code",
   "execution_count": null,
   "id": "60b1da3a",
   "metadata": {},
   "outputs": [],
   "source": [
    "#Total paitent numbers\n",
    "patient_df = pd.read_pickle(RAW_PATH + 'vector_PatientBased.pklz', compression = 'gzip')\n",
    "patient_df.shape"
   ]
  },
  {
   "cell_type": "markdown",
   "id": "d5ce0fee",
   "metadata": {},
   "source": [
    "#  Extract data"
   ]
  },
  {
   "cell_type": "code",
   "execution_count": null,
   "id": "8fc39bd0",
   "metadata": {},
   "outputs": [],
   "source": [
    "def data_extraction(medHTN_df, eGFR_df, DHL_date_df):\n",
    "    \n",
    "    if 'drug_intensity' in GRP_LIST:\n",
    "        print('Mapping drug dosage to drug intensity...')\n",
    "        treatment_hist_df = extract_HTN_treatment_history(medHTN_df)\n",
    "    \n",
    "        print('Extracting initial HTN drug prescription...')\n",
    "        drug_class_df = extract_init_drug_class_with_intensity_hist(treatment_hist_df, DRUG_LIST)\n",
    "        \n",
    "    else:\n",
    "        drug_class_df = extract_init_drug_class(medHTN_df)\n",
    "\n",
    "    print('Extracting eGFR change date...')\n",
    "    print(f'eGFR_OPTION: {eGFR_OPTION}')\n",
    "    stage_changing_df = extract_eGFR_stage_changing(eGFR_df, drug_class_df, option = eGFR_OPTION)\n",
    "\n",
    "    print('Extracting HTN diagnostic date...')\n",
    "    HTN_date_df = get_HTN_diagnostic_date(DHL_date_df)\n",
    "    \n",
    "    print(f'Associating baseline and followup values of {BIO_COL}')\n",
    "    bio_df = pd.read_pickle(PRO_PATH+ BIO_COL +'_df.pklz', compression = 'gzip')\n",
    "    followups_ctrl_df = get_followups_with_control(drug_class_df, bio_df)\n",
    "    \n",
    "\n",
    "    return drug_class_df, stage_changing_df, HTN_date_df, followups_ctrl_df\n",
    "# %%time\n",
    "# drug_class_df, stage_changing_df, HTN_date_df = data_extraction(medHTN_df, eGFR_df, DHL_date_df)"
   ]
  },
  {
   "cell_type": "markdown",
   "id": "03b7f630",
   "metadata": {},
   "source": [
    "# Cohort derivation"
   ]
  },
  {
   "cell_type": "code",
   "execution_count": null,
   "id": "9e45a027",
   "metadata": {},
   "outputs": [],
   "source": [
    "def get_in_cohort_remark(row, exclude_pids):\n",
    "\n",
    "    # age\n",
    "    if row['Age'] < 21:\n",
    "        return '2 - Age'\n",
    "    \n",
    "    # not diagnose with HTN before index date\n",
    "    if (row['HTN_date'] > row['D_start_date']):\n",
    "        return '3 - HTN drugs before diagnosis'\n",
    "    \n",
    "    # not initial therapy -> False\n",
    "    #condition: row['D_start_date'] < '2010-06-30', less than 365 days from the study period\n",
    "    if row['D_start_date'] < pd.to_datetime('2011-01-01') :\n",
    "        return '4 - the 1st therapy was not drug initailization'\n",
    "    \n",
    "    if row[PID] in exclude_pids:\n",
    "        return '5 - taking excluded drugs'\n",
    "\n",
    "    # combined therapy -> False\n",
    "    if row['drug_class'] == 'OutOfSelectedHTNClasses':\n",
    "        return '6 - OutOfSelectedHTNClasses'\n",
    "    \n",
    "    if row['drug_name'] == 'Propranolol':\n",
    "        return '7 - Propranolol_HTNexcluded'\n",
    "\n",
    "    if row['drug_num'] > 1:\n",
    "        return '8 - HTN drugs more than 1'\n",
    "\n",
    "    #invalid eGFR record -> False\n",
    "    if row['B_remark'] in ['single record', 'no baseline eGFR', 'no follow-up eGFR']:\n",
    "        return '9 - no eligible baseline or follow-up eGFR'\n",
    "    \n",
    "    if (row['D_start_date'] - row['B_init_date']).days//365 > 0:\n",
    "        return '10 - Baseline eGFR out of window'\n",
    "    \n",
    "    #followups with ctrl\n",
    "    if len(row['follow_ups_with_control']) == 0:\n",
    "        return '11 - No eligible control eGFR'\n",
    "\n",
    "\n",
    "#     # if diagnosed with kidney complication -> False\n",
    "#     if (row['Kidney_diag'] == True):\n",
    "#         return 'Kidney_CC'\n",
    "    \n",
    "    return 'IN COHORT'\n",
    "    \n",
    "def cohort_derivation(drug_class_df,\n",
    "                      stage_changing_df,\n",
    "                      HTN_date_df,\n",
    "                      first_last_date_df,\n",
    "                      followups_ctrl_df,\n",
    "                      exclude_pids):\n",
    "    \n",
    "    #join related df on PID with inner join\n",
    "    df_list = [drug_class_df, stage_changing_df, HTN_date_df, first_last_date_df, followups_ctrl_df]\n",
    "    joined_df = join_df_list_on_same_key(df_list,[PID], how='inner')\n",
    "    \n",
    "    date_attr = 'D_start_date'\n",
    "    pid_date_df = joined_df[[PID, date_attr]]\n",
    "    \n",
    "    #add age at `D_start_date`\n",
    "    age_df = add_age_at_date(pid_date_df, date_attr = date_attr)\n",
    "    \n",
    "    #add kidney complication at `D_start_date`\n",
    "    kidney_df = adding_CC_diagnostic_variables(pid_date_df,\n",
    "                                               date_attr = date_attr, \n",
    "                                               CC_list = ['Kidney'])\n",
    "    \n",
    "    joined_df = join_df_list_with_change_date(pid_date_df,\n",
    "                                              [joined_df, age_df, kidney_df],\n",
    "                                              date_attr = date_attr)\n",
    "    \n",
    "    #assign cohort mark\n",
    "    joined_df['in_cohort'] = joined_df.progress_apply(lambda row: get_in_cohort_remark(row, exclude_pids), axis=1)\n",
    "  \n",
    "    #cohort analysis\n",
    "    cohort_summary = joined_df['in_cohort'].value_counts().sort_index()\n",
    "    print('In cohort summary: \\n', cohort_summary)\n",
    "    \n",
    "    cohort_df = joined_df.loc[joined_df['in_cohort'] == 'IN COHORT', :].reset_index(drop = True)\n",
    "    \n",
    "    #POST-PROCESSING\n",
    "    #combine the multi-col-identifier into one col\n",
    "    cohort_df = generate_grp_tuple_col(cohort_df, GRP_LIST)\n",
    "    cohort_df.loc[:, GRP_COL] = cohort_df[GRP_COL].apply(lambda v: CLASS_MAPPING_DICT[v])\n",
    "    #generating survival labels\n",
    "    event_dur_df = cohort_df.apply(lambda row: get_event_dur(row), axis = 1)\n",
    "    cohort_df = cohort_df.merge(event_dur_df, how = 'inner', left_on = PID, right_on = PID)\n",
    "    \n",
    "    print('In cohort summary: #total_patients.')\n",
    "    print(len(cohort_df), '\\n')\n",
    "    \n",
    "    #summary of eGFR stage change of patients in cohort\n",
    "    summary_eGFR = cohort_df['B_remark'].value_counts().sort_values()\n",
    "    print('In cohort summary: #patient for eGFR change event.')\n",
    "    print(summary_eGFR, '\\n')\n",
    "    \n",
    "    #summary of drug prescription of patients in cohort\n",
    "    summary_drug_intensity = cohort_df[GRP_COL].value_counts().sort_values(ascending = False)\n",
    "    print('In cohort summary: #patient for each group.')\n",
    "    print(summary_drug_intensity, '\\n')\n",
    "    \n",
    "    return cohort_df\n",
    "\n",
    "# %%time\n",
    "# cohort_df = cohort_derivation(drug_class_df, stage_changing_df, HTN_date_df, first_last_date_df)\n",
    "\n",
    "# #time from baseline eGFR measurement to drug initiation - by year\n",
    "# (cohort_df['D_start_date'] - cohort_df['B_init_date']).apply(lambda v:v.days//365).value_counts()\n",
    "\n",
    "# #duration of drug prescription\n",
    "# (cohort_df['D_end_date'] - cohort_df['D_start_date']).apply(lambda v: v.days).hist(bins = 20)\n",
    "\n",
    "# #duration from drug end to biomarker change\n",
    "# #to see how much of biomarker change after the stop of drug\n",
    "# (cohort_df['B_change_date'] - cohort_df['D_end_date']).apply(lambda v: v.days/365).hist(bins = 20)\n",
    "\n",
    "# #to see how much of biomarker change after the stop of drug\n",
    "# cohort_df.loc[(cohort_df['B_change_date'] > cohort_df['D_end_date']) & (cohort_df['B_remark'] != 'no change') ,:].head(10)"
   ]
  },
  {
   "cell_type": "markdown",
   "id": "4f750f03",
   "metadata": {},
   "source": [
    "## Add baseline covaraites"
   ]
  },
  {
   "cell_type": "code",
   "execution_count": null,
   "id": "e260b8c2",
   "metadata": {},
   "outputs": [],
   "source": [
    "def associating_baseline_vars_df(cohort_df, eGFR_option):\n",
    "    \n",
    "    date_attr = 'D_start_date'\n",
    "    pid_date_df = cohort_df[[PID, date_attr]].reset_index(drop = True)\n",
    "    df_list = []\n",
    "    dummies_prefixes = []\n",
    "    \n",
    "    drug_class_df = cohort_df[[PID, date_attr] + [GRP_COL]]\n",
    "    df_list.append(drug_class_df)\n",
    "    \n",
    "    sex_race_df = adding_gender_race_variables(pid_date_df, \n",
    "                                          date_attr = date_attr, \n",
    "                                          with_dummies = True,\n",
    "                                          drop_ref = DUMMIES_DROP_FIRST)\n",
    "    df_list.append(sex_race_df)\n",
    "    dummies_prefixes += ['gender', 'race']\n",
    "    \n",
    "#     #add age as a discrete varaible\n",
    "#     age_band_df = add_age_band_at_date(pid_date_df, \n",
    "#                                         date_attr = date_attr,\n",
    "#                                         with_dummies = True,\n",
    "#                                         drop_ref = DUMMIES_DROP_FIRST)\n",
    "#     df_list.append(age_band_df)\n",
    "#     dummies_prefixes += ['age']\n",
    "    \n",
    "    #add age as a continuous variable\n",
    "    age_df = add_age_at_date(pid_date_df, \n",
    "                            date_attr = date_attr)\n",
    "    df_list.append(age_df)\n",
    "    \n",
    "\n",
    "    DHL_df = adding_DHL_diagnostic_variables(pid_date_df, \n",
    "                                             date_attr = date_attr,\n",
    "                                            DHL_list = ['DM', 'HLD'])\n",
    "    df_list.append(DHL_df)\n",
    "    \n",
    "    CC_df = adding_CC_diagnostic_variables(pid_date_df,\n",
    "                                           date_attr = date_attr,\n",
    "                                           CC_list = ['Macrovascular','Eye','Foot','Kidney'])\n",
    "    df_list.append(CC_df)\n",
    "    \n",
    "    lab_list = ['BP_S', 'BP_D', 'HbA1c', 'LDL', 'BMI']\n",
    "    lab_df = adding_baseline_lab_values_from_lab_df_opt(pid_date_df, \n",
    "                                           lab_list, \n",
    "                                           date_attr = date_attr, \n",
    "                                           wind_size=180,\n",
    "                                           fillna = True)\n",
    "\n",
    "    df_list.append(lab_df)\n",
    "    \n",
    "    drug_df = adding_baseline_drug_variables_opt(pid_date_df, \n",
    "                                       DHL_list = ['DM', 'HLD'],\n",
    "                                       date_attr = date_attr, \n",
    "                                       wind_size = 180)\n",
    "    df_list.append(drug_df)\n",
    "    \n",
    "    if eGFR_option == 'stage':\n",
    "        eGFR_dummies = pd.get_dummies(cohort_df['B_init_value'].astype(int), prefix='eGFR_stage', drop_first = DUMMIES_DROP_FIRST)\\\n",
    "                            .reset_index(drop = True)\n",
    "        init_stage_df = pd.concat([pid_date_df, eGFR_dummies], axis = 1)\n",
    "        df_list.append(init_stage_df)\n",
    "        dummies_prefixes += ['eGFR_stage']\n",
    "    else: \n",
    "        init_eGFR_df = cohort_df[[PID, date_attr, 'B_init_value']].rename(columns = {'B_init_value': 'eGFR'})\n",
    "        df_list.append(init_eGFR_df)\n",
    "\n",
    "    baseline_vars_df = join_df_list_with_change_date(pid_date_df,\n",
    "                                              df_list,\n",
    "                                              date_attr = date_attr)\n",
    "    \n",
    "    \n",
    "    return baseline_vars_df, dummies_prefixes\n",
    "\n",
    "\n",
    "# %%time\n",
    "# baseline_vars_df, dummies_prefixes = associating_baseline_vars_df(cohort_df, ['drug_class', 'drug_intensity'], eGFR_option = eGFR_OPTION)\n",
    "\n",
    "# baseline_vars_df.columns"
   ]
  },
  {
   "cell_type": "markdown",
   "id": "5a1eaf6f",
   "metadata": {},
   "source": [
    "## PACKED "
   ]
  },
  {
   "cell_type": "code",
   "execution_count": null,
   "id": "aa094815",
   "metadata": {},
   "outputs": [],
   "source": [
    "def cohort_derivation_and_comparision(drug_class_df, \n",
    "                                      stage_changing_df, \n",
    "                                      HTN_date_df, \n",
    "                                      first_last_date_df, \n",
    "                                      followups_ctrl_df, \n",
    "                                      exclude_pids):\n",
    "    \n",
    "    print('Cohort derivation...')\n",
    "    cohort_df = cohort_derivation(drug_class_df, \n",
    "                                  stage_changing_df, \n",
    "                                  HTN_date_df, \n",
    "                                  first_last_date_df,\n",
    "                                  followups_ctrl_df,\n",
    "                                  exclude_pids)\n",
    "    \n",
    "    print('\\n Associating baseline variables...')\n",
    "    baseline_vars_df, dummies_prefixes = associating_baseline_vars_df(cohort_df,\n",
    "                                                                      eGFR_option = eGFR_OPTION)\n",
    "\n",
    "    #select patients with condition\n",
    "    print(f'\\n cohort_DM: {cohort_DM}, cohort_CKD: {cohort_CKD}')\n",
    "    if cohort_DM is None:\n",
    "        mask_DM = np.array([True] * len(baseline_vars_df))\n",
    "    else:\n",
    "        mask_DM = baseline_vars_df['DM_diag'] == cohort_DM\n",
    "        \n",
    "    if cohort_CKD is None:\n",
    "        mask_CKD = np.array([True] * len(baseline_vars_df))\n",
    "    else:\n",
    "        mask_CKD = baseline_vars_df['Kidney_diag'] == cohort_CKD\n",
    "\n",
    "    pids = baseline_vars_df.loc[mask_DM & mask_CKD, PID].unique()\n",
    "    \n",
    "    cohort_df_s = cohort_df.loc[cohort_df[PID].isin(pids), :]\n",
    "    baseline_vars_df_s = baseline_vars_df.loc[baseline_vars_df[PID].isin(pids), :]\n",
    "    \n",
    "    print('\\n Comparing sub-cohorts...')\n",
    "    bc_df = get_baseline_characteristics(baseline_vars_df_s)\n",
    "\n",
    "    cohort_comparison(baseline_vars_df_s)\n",
    "\n",
    "    return cohort_df_s, baseline_vars_df_s, bc_df, dummies_prefixes"
   ]
  },
  {
   "cell_type": "markdown",
   "id": "4f64c27c",
   "metadata": {},
   "source": [
    "# eGFR curve overtime"
   ]
  },
  {
   "cell_type": "markdown",
   "id": "0114bb00",
   "metadata": {},
   "source": [
    "# Kaplan-Meier estimation"
   ]
  },
  {
   "cell_type": "code",
   "execution_count": null,
   "id": "2d95d1dc",
   "metadata": {},
   "outputs": [],
   "source": [
    "def KM_estimator_for_params(cohort_df):\n",
    "    \n",
    "    event_params = {}\n",
    "    for window in ['drug', 'study']:\n",
    "        for event in ['better', 'worse']:\n",
    "            event_params['window'] = window\n",
    "            event_params['eGFR_event'] = event\n",
    "            KM_estimator(cohort_df, event_params)\n",
    "    \n",
    "    return"
   ]
  },
  {
   "cell_type": "markdown",
   "id": "27e03c8b",
   "metadata": {},
   "source": [
    "#  Cox proportionl hazard regression"
   ]
  },
  {
   "cell_type": "code",
   "execution_count": null,
   "id": "a3ae94fc",
   "metadata": {},
   "outputs": [],
   "source": [
    "def Cox_for_multiple_events(baseline_vars_df, cohort_df):\n",
    "    \n",
    "    event_params = {'window': 'drug', \n",
    "               'eGFR_event': 'better'}\n",
    "    \n",
    "    for events in ['better', 'worse', 'fluctuate']:\n",
    "        \n",
    "        print(f'-------------------eGFR_event: {events.upper()}----------------')\n",
    "        event_params['eGFR_event'] = events\n",
    "        cox_surv_df = adding_dur_event_variables_with_parameters(baseline_vars_df,\n",
    "                                                             cohort_df,\n",
    "                                                             event_params)\n",
    "    \n",
    "        cox_weights_dict, res_df = Cox_for_multiple_base_classes(cox_surv_df)\n",
    "        print(res_df.to_string())\n",
    "\n",
    "    return\n",
    "\n",
    "# %%time\n",
    "# Cox_for_multiple_events(baseline_vars_df, cohort_df)"
   ]
  },
  {
   "cell_type": "markdown",
   "id": "3c4ea70a",
   "metadata": {},
   "source": [
    "# Propensity Score for covaraites balancing"
   ]
  },
  {
   "cell_type": "markdown",
   "id": "dc69daae",
   "metadata": {},
   "source": [
    "## PACKED: PS compuation"
   ]
  },
  {
   "cell_type": "code",
   "execution_count": null,
   "id": "01fdbabe",
   "metadata": {},
   "outputs": [],
   "source": [
    "def ps_computation(baseline_vars_df):\n",
    "    \n",
    "    print('----------Estimating propensity score...')\n",
    "    ps_dict = ps_for_all_classes(baseline_vars_df, drop_ref = True)\n",
    "\n",
    "    print('----------Positivity checking ...')\n",
    "    ps_positivity_dict = positivity_checking(ps_dict)\n",
    "\n",
    "    return ps_positivity_dict\n",
    "\n",
    "# ps_positivity_dict = ps_computation(baseline_vars_df)\n",
    "\n",
    "## PS stratification\n",
    "\n",
    "def generate_stratum_label(ps_dict, strata_num):\n",
    "    \n",
    "    strata_dict = {}\n",
    "    for key, df in ps_dict.items():\n",
    "        if df.empty:\n",
    "            continue\n",
    "        ps_series = df.loc[:, 'propensity']\n",
    "        df.loc[:, 'stratum'] = pd.qcut(ps_series, strata_num, labels = False)\n",
    "        strata_dict[key] = df\n",
    "\n",
    "    return strata_dict\n",
    "\n",
    "def SMD_with_strata(strata_df, base, comparator):\n",
    "    \n",
    "    stratums = strata_df['stratum'].unique()\n",
    "    cols = list(strata_df.columns)\n",
    "    \n",
    "    SMD_list = []\n",
    "    for label in stratums:\n",
    "        s_df = strata_df.loc[strata_df['stratum'] == label, :]\n",
    "        X_cols = remove_element_from_list(cols, ['propensity', 'stratum'])\n",
    "        SMD_df = SMD_between_base_and_comparator(s_df[X_cols], base, comparator)\n",
    "        SMD_list.append(SMD_df[['SMD']])\n",
    "        \n",
    "    full_df = pd.concat(SMD_list, axis = 1)\n",
    "    res_df = full_df.mean(axis = 1)\n",
    "\n",
    "    return res_df\n",
    "\n",
    "def cohort_comparison_after_stratification(strata_dict, details = False):\n",
    "    \n",
    "    for key, strata_df in strata_dict.items():\n",
    "        if strata_df.empty:\n",
    "            continue\n",
    "        base, comparator = key\n",
    "        imbalanced_cnt = 0\n",
    "        SMD_s = SMD_with_strata(strata_df, base, comparator)\n",
    "        SMD_s = SMD_s.round(2)\n",
    "        imbalanced_rows = SMD_s.loc[SMD_s>=0.2]\n",
    "        imbalanced_cnt += len(imbalanced_rows)\n",
    "        \n",
    "        print(f'----------base: {base}, comparator: {comparator}----------')\n",
    "        if details:\n",
    "            print(imbalanced_rows)\n",
    "            print(f'#imbalanced_row: {imbalanced_rows}')\n",
    "        else:\n",
    "            pass\n",
    "        \n",
    "    print(f'Total imbalanced rows: {imbalanced_cnt}')\n",
    "        \n",
    "    return\n",
    "\n",
    "# ps_positivity_dict = positivity_checking(ps_dict)\n",
    "\n",
    "# strata_dict = generate_stratum_label(ps_positivity_dict, strata_num = 20)\n",
    "\n",
    "# cohort_comparison_after_stratification(strata_dict)"
   ]
  },
  {
   "cell_type": "markdown",
   "id": "ed826c21",
   "metadata": {},
   "source": [
    "## PACKED: Cox with stratification"
   ]
  },
  {
   "cell_type": "code",
   "execution_count": null,
   "id": "786c73bc",
   "metadata": {},
   "outputs": [],
   "source": [
    "def Cox_strata_for_multiple_events(ps_dict, cohort_df, dummies_prefixes):\n",
    "    \n",
    "    print('----------Stratification ...')\n",
    "    strata_dict = generate_stratum_label(ps_dict, strata_num = 20)\n",
    "\n",
    "    print('----------Cohort comparison after stratification ...')\n",
    "    cohort_comparison_after_stratification(strata_dict)\n",
    "    \n",
    "    print('----------Cox regression ...')\n",
    "    \n",
    "    event_params = {'window': 'drug', \n",
    "               'eGFR_event': 'better'}\n",
    "    \n",
    "    for events in ['better', 'worse']:\n",
    "        \n",
    "        print(f'-------------------eGFR_event: {events.upper()}----------------')\n",
    "        event_params['eGFR_event'] = events\n",
    "        res_df = cox_with_strata(strata_dict,\n",
    "                                    cohort_df,\n",
    "                                    dummies_prefixes,\n",
    "                                    event_params)\n",
    "\n",
    "    return\n",
    "\n",
    "# %%time\n",
    "# Cox_strata_for_multiple_events(ps_positivity_dict, cohort_df)"
   ]
  },
  {
   "cell_type": "markdown",
   "id": "ad173e69",
   "metadata": {},
   "source": [
    "## PACKED: Cox with PS-matching"
   ]
  },
  {
   "cell_type": "code",
   "execution_count": null,
   "id": "04f804c5",
   "metadata": {},
   "outputs": [],
   "source": [
    "def Cox_ps_matching_for_multiple_events(ps_dict, cohort_df, dummies_prefixes):\n",
    "    \n",
    "    print('-------------------PS matching-------------------')\n",
    "    matched_dict = one_to_one_ps_matching_for_all_pairs(ps_dict)\n",
    "    \n",
    "    event_params = {'window': 'drug', \n",
    "               'eGFR_event': 'better'}\n",
    "    \n",
    "    for events in ['better', 'worse']:\n",
    "        \n",
    "        print(f'-------------------eGFR_event: {events.upper()}----------------')\n",
    "        event_params['eGFR_event'] = events\n",
    "        \n",
    "        cox_with_matching(ps_dict,\n",
    "                          cohort_df,\n",
    "                          matched_dict,\n",
    "                          dummies_prefixes,\n",
    "                          event_params)\n",
    "\n",
    "    return\n",
    "\n",
    "# %%time\n",
    "# Cox_ps_matching_for_multiple_events(ps_positivity_dict, cohort_df)"
   ]
  },
  {
   "cell_type": "markdown",
   "id": "ccc4905f",
   "metadata": {},
   "source": [
    "# KM with ps-matching"
   ]
  },
  {
   "cell_type": "code",
   "execution_count": null,
   "id": "5f8a15b0",
   "metadata": {},
   "outputs": [],
   "source": [
    "def ps_matching_for_KM_estimator(baseline_vars_df, comparator):\n",
    "    \n",
    "    matched_dict = ps_estimation_and_matching(baseline_vars_df, comparator = comparator)\n",
    "    bc_comp_dict = profile_comparison_after_matching(baseline_vars_df, matched_dict)\n",
    "    SMD_visualization(bc_comp_dict)\n",
    " \n",
    "    return matched_dict, bc_comp_dict\n",
    "\n",
    "def pairwise_KM_estimator(cohort_df, matched_dict):\n",
    "    \n",
    "    for key, matched in matched_dict.items():\n",
    "        base, comparator = key\n",
    "#         print(key)\n",
    "        base_pids = matched['base_id'].to_list()\n",
    "        comp_pids = matched['comp_id'].to_list()\n",
    "        pid_list = base_pids + comp_pids\n",
    "#         print(f'sample of base_pids: {np.random.choice(base_pids, size = 5)}')\n",
    "#         print(f'sample of comp_pids: {np.random.choice(comp_pids, size = 5)}')\n",
    "        \n",
    "        mask = cohort_df[PID].isin(pid_list)\n",
    "        cohort_df_s = cohort_df.loc[mask, :]\n",
    "\n",
    "        sample_size = len(matched)\n",
    "        additional_title = f'(sample_size:{sample_size})'\n",
    "        \n",
    "        \n",
    "        event_params = {'window': 'drug', \n",
    "                        'eGFR_event': 'worse'}\n",
    "        KM_estimator(cohort_df_s,\n",
    "                     event_params,\n",
    "                     additional_title = additional_title)\n",
    "\n",
    "    return "
   ]
  },
  {
   "cell_type": "markdown",
   "id": "693ae8d3",
   "metadata": {},
   "source": [
    "# ALL PACKED"
   ]
  },
  {
   "cell_type": "code",
   "execution_count": null,
   "id": "70dccfc6",
   "metadata": {},
   "outputs": [],
   "source": [
    "# %%time\n",
    "# treatment_hist_df = extract_HTN_treatment_history(medHTN_df)"
   ]
  },
  {
   "cell_type": "code",
   "execution_count": null,
   "id": "bc1b462c",
   "metadata": {
    "scrolled": true
   },
   "outputs": [],
   "source": [
    "# %%time\n",
    "# inter_v_df = eGFR_mean_curve_entire_population(eGFR_df)"
   ]
  },
  {
   "cell_type": "markdown",
   "id": "c4f87c89",
   "metadata": {},
   "source": [
    "## cohort extraction"
   ]
  },
  {
   "cell_type": "code",
   "execution_count": null,
   "id": "92e0b1db",
   "metadata": {
    "scrolled": false
   },
   "outputs": [],
   "source": [
    "%%time\n",
    "drug_class_df, eGFR_changing_df, HTN_date_df, followups_ctrl_df = data_extraction(medHTN_df, eGFR_df, DHL_date_df)"
   ]
  },
  {
   "cell_type": "code",
   "execution_count": null,
   "id": "7b877868",
   "metadata": {},
   "outputs": [],
   "source": [
    "drug_class_df.head()"
   ]
  },
  {
   "cell_type": "code",
   "execution_count": null,
   "id": "5bd525aa",
   "metadata": {},
   "outputs": [],
   "source": [
    "eGFR_changing_df.head()"
   ]
  },
  {
   "cell_type": "code",
   "execution_count": null,
   "id": "055f4105",
   "metadata": {},
   "outputs": [],
   "source": [
    "HTN_date_df.head()"
   ]
  },
  {
   "cell_type": "code",
   "execution_count": null,
   "id": "1a58f594",
   "metadata": {},
   "outputs": [],
   "source": [
    "followups_ctrl_df.head()"
   ]
  },
  {
   "cell_type": "code",
   "execution_count": null,
   "id": "3a762fda",
   "metadata": {},
   "outputs": [],
   "source": [
    "drug_class_df['drug_num'].value_counts().iloc[0:10]"
   ]
  },
  {
   "cell_type": "code",
   "execution_count": null,
   "id": "e8fc13e7",
   "metadata": {},
   "outputs": [],
   "source": [
    "HTN_date_df.shape"
   ]
  },
  {
   "cell_type": "code",
   "execution_count": null,
   "id": "ff00b1d3",
   "metadata": {},
   "outputs": [],
   "source": [
    "%%time\n",
    "excluded_pids = get_pids_taking_certain_drugs(medDM_df, ['Empagliflozin', 'Dapagliflozin'])\n",
    "cohort_df, baseline_vars_df, bc_df, dummies_prefixes = cohort_derivation_and_comparision(drug_class_df,\n",
    "                                                                                           eGFR_changing_df,\n",
    "                                                                                           HTN_date_df,\n",
    "                                                                                           first_last_date_df,\n",
    "                                                                                           followups_ctrl_df,\n",
    "                                                                                           excluded_pids)"
   ]
  },
  {
   "cell_type": "code",
   "execution_count": null,
   "id": "00152e7d",
   "metadata": {},
   "outputs": [],
   "source": [
    "cohort_df.columns"
   ]
  },
  {
   "cell_type": "code",
   "execution_count": null,
   "id": "d009ce36",
   "metadata": {},
   "outputs": [],
   "source": [
    "cohort_df['HTN_date'].isnull().value_counts()"
   ]
  },
  {
   "cell_type": "code",
   "execution_count": null,
   "id": "bce74f53",
   "metadata": {},
   "outputs": [],
   "source": [
    "cohort_df.groupby(GRP_COL).apply(lambda df: print(df.name, len(df), df['event'].sum()))"
   ]
  },
  {
   "cell_type": "code",
   "execution_count": null,
   "id": "34bf3bed",
   "metadata": {},
   "outputs": [],
   "source": [
    "cohort_df.head()"
   ]
  },
  {
   "cell_type": "code",
   "execution_count": null,
   "id": "b7789bbf",
   "metadata": {},
   "outputs": [],
   "source": [
    "cohort_df.shape"
   ]
  },
  {
   "cell_type": "code",
   "execution_count": null,
   "id": "190a2a56",
   "metadata": {},
   "outputs": [],
   "source": [
    "cohort_df['grp_name'].unique()"
   ]
  },
  {
   "cell_type": "code",
   "execution_count": null,
   "id": "9c7a3c6d",
   "metadata": {
    "scrolled": true
   },
   "outputs": [],
   "source": [
    "#generate the pivot table\n",
    "def pivot_table_for_stage_transition(cohort_df):\n",
    "\n",
    "    with pd.ExcelWriter('CKD_stage_change.xlsx') as writer:\n",
    "        copy_df = cohort_df.copy()\n",
    "        for grp in ['ACEIs', 'ARBs', 'OTHERS']:\n",
    "            s_df = copy_df.loc[copy_df['grp_name'] == grp, ['B_init_value','B_worse_value']]\n",
    "            s_df['B_worse_value'] = s_df.apply(lambda row: row['B_init_value'] if pd.isnull(row['B_worse_value']) else row['B_worse_value'], axis = 1)  \n",
    "            pivot_table = pd.pivot_table(s_df, index = 'B_init_value', columns = 'B_worse_value', aggfunc = 'size')\n",
    "            pivot_table = pivot_table.fillna(0).astype(int)\n",
    "            pivot_table['ALL'] = pivot_table.sum(axis = 1)\n",
    "            pivot_table = (pivot_table.div(pivot_table['ALL'], axis = 0) * 100).round(1)\n",
    "#             print(grp)\n",
    "#             print(pivot_table)\n",
    "\n",
    "    #         pivot_table.to_excel(writer, sheet_name=grp, index=True)\n",
    "    \n",
    "    return\n",
    "\n",
    "pivot_table_for_stage_transition(cohort_df)"
   ]
  },
  {
   "cell_type": "code",
   "execution_count": null,
   "id": "e28df164",
   "metadata": {},
   "outputs": [],
   "source": [
    "#mean follow-up years, and IQR\n",
    "(cohort_df['D_end_date'] - cohort_df['D_start_date']).apply(lambda v: v.days/365).median()"
   ]
  },
  {
   "cell_type": "code",
   "execution_count": null,
   "id": "87c5a3c0",
   "metadata": {},
   "outputs": [],
   "source": [
    "cohort_df[GRP_COL].value_counts(normalize = True)"
   ]
  },
  {
   "cell_type": "code",
   "execution_count": null,
   "id": "0f080ba9",
   "metadata": {},
   "outputs": [],
   "source": [
    "#eGFR measurement frequency for those in cohort\n",
    "def compute_eGFR_measurement_freq(eGFR_df,pids):\n",
    "    \n",
    "    eGFR_df_s = eGFR_df.loc[eGFR_df[PID].isin(pids), :].reset_index(drop = True)\n",
    "    interval = eGFR_df_s.groupby(PID).apply(lambda df: df[DATE].diff())\n",
    "    \n",
    "    return interval.median()\n",
    "\n",
    "pids = cohort_df[PID].unique()\n",
    "compute_eGFR_measurement_freq(eGFR_df,pids)"
   ]
  },
  {
   "cell_type": "code",
   "execution_count": null,
   "id": "9b00f6b5",
   "metadata": {},
   "outputs": [],
   "source": [
    "# summary = baseline_vars_df.loc[baseline_vars_df[GRP_COL] == 'class_ARB', :]\\\n",
    "#                                 .drop([PID, GRP_COL], axis = 1)\\\n",
    "#                                 .sum()[['eGFR_stage_1','eGFR_stage_2','eGFR_stage_3','eGFR_stage_4','eGFR_stage_5']]\n",
    "# summary/3171"
   ]
  },
  {
   "cell_type": "code",
   "execution_count": null,
   "id": "44c07824",
   "metadata": {},
   "outputs": [],
   "source": [
    "bc_df"
   ]
  },
  {
   "cell_type": "code",
   "execution_count": null,
   "id": "edbb197c",
   "metadata": {},
   "outputs": [],
   "source": [
    "#statistics\n",
    "baseline_vars_df['gender_Male'].mean()"
   ]
  },
  {
   "cell_type": "code",
   "execution_count": null,
   "id": "710a2e8e",
   "metadata": {},
   "outputs": [],
   "source": [
    "baseline_vars_df.head()"
   ]
  },
  {
   "cell_type": "code",
   "execution_count": null,
   "id": "cc1e1ece",
   "metadata": {},
   "outputs": [],
   "source": [
    "# #save to csv\n",
    "# bc_df.to_csv('bc.csv')"
   ]
  },
  {
   "cell_type": "code",
   "execution_count": null,
   "id": "01f282fc",
   "metadata": {},
   "outputs": [],
   "source": [
    "# baseline_vars_df.groupby(['DM_diag', 'HLD_diag']).size()"
   ]
  },
  {
   "cell_type": "code",
   "execution_count": null,
   "id": "c3fb829e",
   "metadata": {},
   "outputs": [],
   "source": [
    "#adding traj for other variables\n",
    "traj_df = get_followups_with_control_addtional_traj(cohort_df, traj_col = TRAJ_COL)\n",
    "cohort_df = cohort_df.merge(traj_df, how = 'left', left_on = PID, right_on = PID)"
   ]
  },
  {
   "cell_type": "code",
   "execution_count": null,
   "id": "0bd5a58d",
   "metadata": {},
   "outputs": [],
   "source": [
    "traj_df.shape"
   ]
  },
  {
   "cell_type": "code",
   "execution_count": null,
   "id": "020473ff",
   "metadata": {},
   "outputs": [],
   "source": [
    "traj_df.head()"
   ]
  },
  {
   "cell_type": "code",
   "execution_count": null,
   "id": "6be77713",
   "metadata": {},
   "outputs": [],
   "source": [
    "cohort_df.columns"
   ]
  },
  {
   "cell_type": "markdown",
   "id": "aae40e22",
   "metadata": {},
   "source": [
    "### distribution of baseline eGFR"
   ]
  },
  {
   "cell_type": "code",
   "execution_count": null,
   "id": "9f9a35a9",
   "metadata": {},
   "outputs": [],
   "source": [
    "def get_eGFR_stage(v):\n",
    "    \n",
    "    if v >= 90:\n",
    "        return 'G1'\n",
    "    elif v >= 60:\n",
    "        return 'G2'\n",
    "    elif v >=30:\n",
    "        return 'G3'\n",
    "    elif v >= 15:\n",
    "        return 'G4'\n",
    "    else:\n",
    "        return 'G5'\n",
    "\n",
    "def distribution(baseline_vars_df):\n",
    "\n",
    "    col = 'eGFR'\n",
    "    without_CKD = False\n",
    "    \n",
    "    if without_CKD:\n",
    "        s_df = baseline_vars_df.loc[baseline_vars_df['Kidney_diag'] == False, :]\n",
    "    else:\n",
    "        s_df = baseline_vars_df\n",
    "    \n",
    "    stages = s_df[col].apply(lambda v:get_eGFR_stage(v))\n",
    "    \n",
    "    print(stages.value_counts())\n",
    "    \n",
    "    stages.hist()\n",
    "    \n",
    "    return"
   ]
  },
  {
   "cell_type": "code",
   "execution_count": null,
   "id": "2ca102fb",
   "metadata": {},
   "outputs": [],
   "source": [
    "# distribution(baseline_vars_df)"
   ]
  },
  {
   "cell_type": "markdown",
   "id": "90485b04",
   "metadata": {},
   "source": [
    "## ps-estimation\n",
    "\n",
    "**Input:**\n",
    "* `baseline_vars_df`\n",
    "\n",
    "**Output:**\n",
    "* `ps_positivity_dict` = (PID, GRP_COL, 'ps', 'ps_w')"
   ]
  },
  {
   "cell_type": "code",
   "execution_count": null,
   "id": "0c5788ad",
   "metadata": {
    "scrolled": true
   },
   "outputs": [],
   "source": [
    "# %%time\n",
    "# ps_positivity_dict = estimate_propensity_score(baseline_vars_df, \n",
    "#                                               comp_list = ['class_ACEI'])"
   ]
  },
  {
   "cell_type": "markdown",
   "id": "028b5c16",
   "metadata": {},
   "source": [
    "## eGFR mean curve"
   ]
  },
  {
   "cell_type": "markdown",
   "id": "5e098595",
   "metadata": {},
   "source": [
    "### mean curve with control point & IPTW"
   ]
  },
  {
   "cell_type": "code",
   "execution_count": null,
   "id": "36d1ea03",
   "metadata": {},
   "outputs": [],
   "source": [
    "def eGFR_mean_IPTW(followups_df, baseline_vars_df, followup_yrs):\n",
    "\n",
    "    followups_df_s, baseline_vars_df_s = select_patient_with_followup_yrs(followups_df, \n",
    "                                                                         baseline_vars_df, \n",
    "                                                                         followup_yrs)\n",
    "    \n",
    "    ps_positivity_dict = estimate_propensity_score(baseline_vars_df_s, \n",
    "                                                   comp_list = ['ACEIs', 'ARBs'])\n",
    "    \n",
    "    bc_comp_dict = profile_comparison_IPTW(baseline_vars_df_s, ps_positivity_dict)\n",
    "    SMD_visualization(bc_comp_dict, followup_yrs)\n",
    "    \n",
    "    for pair, ps_df in ps_positivity_dict.items():\n",
    "        pair_stats_dict = get_pair_stats(followups_df_s, ps_df)\n",
    "        followups_visualization(pair_stats_dict,\n",
    "                                ctrl_expolation = False,\n",
    "                                add_patient_num = True,\n",
    "                                errorbar = True)\n",
    "        \n",
    "        print(f'-----------------------{pair}------------------------')\n",
    "        for key, grp_dict in pair_stats_dict.items():\n",
    "            print(key)\n",
    "            print('means: ', np.round(grp_dict['means'],2))\n",
    "            print('CI_lower: ', np.round(grp_dict['CI_lower'],2))\n",
    "            print('CI_upper: ', np.round(grp_dict['CI_upper'],2),'\\n')\n",
    "\n",
    "    return bc_comp_dict"
   ]
  },
  {
   "cell_type": "code",
   "execution_count": null,
   "id": "f51d9ff8",
   "metadata": {
    "scrolled": true
   },
   "outputs": [],
   "source": [
    "%%time\n",
    "followups_df = cohort_df[[PID, FOLLOWUPS_COL]]\n",
    "bc_comp_dict = eGFR_mean_IPTW(followups_df, baseline_vars_df, followup_yrs = 5)\n",
    "'''\n",
    "weighted std is quite large, and the differences between means are quite small.\n",
    "\n",
    "To do: \n",
    " - Check the weighted std.\n",
    " \n",
    "'''"
   ]
  },
  {
   "cell_type": "code",
   "execution_count": null,
   "id": "616ab84b",
   "metadata": {},
   "outputs": [],
   "source": [
    "bc_comp_dict.keys()"
   ]
  },
  {
   "cell_type": "code",
   "execution_count": null,
   "id": "660b90c5",
   "metadata": {},
   "outputs": [],
   "source": [
    "bc_comp_dict[('ACEIs', 'ARBs')]"
   ]
  },
  {
   "cell_type": "code",
   "execution_count": null,
   "id": "a95120b6",
   "metadata": {},
   "outputs": [],
   "source": [
    "#compute mean traj curve for \"traj_col\", but still use the cohort identified by eGFR value\n",
    "\n",
    "def traj_mean_IPTW(eGFR_followups_df, traj_followups_df, baseline_vars_df, followup_yrs):\n",
    "\n",
    "    eGFR_followups_df_s, eGFR_baseline_vars_df_s = select_patient_with_followup_yrs(eGFR_followups_df, \n",
    "                                                                         baseline_vars_df, \n",
    "                                                                         followup_yrs)\n",
    "    \n",
    "    #cut data for traj_followups_df\n",
    "    followup_len = followup_yrs + BASELINE_IDX + 1\n",
    "    mask = traj_followups_df[FOLLOWUPS_COL].apply(lambda v: True if len(v) >= followup_len else False)\n",
    "    traj_followups_df_s = traj_followups_df.loc[mask, :].reset_index(drop = True)\n",
    "    traj_followups_df_s[FOLLOWUPS_COL] = traj_followups_df_s[FOLLOWUPS_COL].apply(lambda v: v[0:followup_len])\n",
    "    \n",
    "    eGFR_pids = eGFR_followups_df_s[PID].unique()\n",
    "    traj_followups_df_s = traj_followups_df_s.loc[traj_followups_df_s[PID].isin(eGFR_pids), :]\n",
    "    traj_pids = traj_followups_df_s[PID].unique()\n",
    "    traj_baseline_vars_df_s = eGFR_baseline_vars_df_s.loc[eGFR_baseline_vars_df_s[PID].isin(traj_pids), :]\n",
    "    \n",
    "    #check how many patients did not have enough traj length\n",
    "    print(f'#patients without full traj: {len(eGFR_pids) - len(traj_pids)} ')\n",
    "\n",
    "    #using weights for eGFR cohorts\n",
    "    ps_positivity_dict = estimate_propensity_score(eGFR_baseline_vars_df_s, \n",
    "                                                   comp_list = ['ACEIs', 'ARBs'])\n",
    "    \n",
    "    bc_comp_dict = profile_comparison_IPTW(traj_baseline_vars_df_s, ps_positivity_dict)\n",
    "    SMD_visualization(bc_comp_dict, followup_yrs)\n",
    "    \n",
    "    for pair, ps_df in ps_positivity_dict.items():\n",
    "        pair_stats_dict = get_pair_stats(traj_followups_df_s, ps_df)\n",
    "        followups_visualization(pair_stats_dict,\n",
    "                                ctrl_expolation = False,\n",
    "                                add_patient_num = False,\n",
    "                                errorbar = True,\n",
    "                                v_name = 'Systolic BP')\n",
    "        \n",
    "        print(f'-----------------------{pair}------------------------')\n",
    "        for key, grp_dict in pair_stats_dict.items():\n",
    "            print(key)\n",
    "            print('means: ', np.round(grp_dict['means'],2))\n",
    "            print('CI_lower: ', np.round(grp_dict['CI_lower'],2))\n",
    "            print('CI_upper: ', np.round(grp_dict['CI_upper'],2),'\\n')\n",
    "\n",
    "    return bc_comp_dict"
   ]
  },
  {
   "cell_type": "code",
   "execution_count": null,
   "id": "dba9a233",
   "metadata": {},
   "outputs": [],
   "source": [
    "followup_yrs = 5\n",
    "traj_followups_col = TRAJ_COL + '_' + FOLLOWUPS_COL\n",
    "eGFR_followups_df = cohort_df[[PID, FOLLOWUPS_COL]]\n",
    "traj_followups_df = cohort_df[[PID, traj_followups_col]].rename(columns = {traj_followups_col: FOLLOWUPS_COL})"
   ]
  },
  {
   "cell_type": "code",
   "execution_count": null,
   "id": "7c6022ae",
   "metadata": {
    "scrolled": false
   },
   "outputs": [],
   "source": [
    "%%time\n",
    "traj_mean_IPTW(eGFR_followups_df, traj_followups_df, baseline_vars_df, followup_yrs)"
   ]
  },
  {
   "cell_type": "code",
   "execution_count": null,
   "id": "5b38df04",
   "metadata": {},
   "outputs": [],
   "source": [
    "eGFR_followups_df_s, eGFR_baseline_vars_df_s = select_patient_with_followup_yrs(eGFR_followups_df, \n",
    "                                                                         baseline_vars_df, \n",
    "                                                                         followup_yrs)"
   ]
  },
  {
   "cell_type": "code",
   "execution_count": null,
   "id": "d72864e8",
   "metadata": {},
   "outputs": [],
   "source": [
    "followup_len = followup_yrs + BASELINE_IDX + 1\n",
    "traj_followups_col = traj_col + '_' + FOLLOWUPS_COL\n",
    "mask = traj_followups_df[traj_followups_col].apply(lambda v: True if len(v) >= followup_len else False)\n",
    "traj_followups_df_s = traj_followups_df.loc[mask, :].reset_index(drop = True)\n",
    "traj_followups_df_s[traj_followups_col] = traj_followups_df_s[traj_followups_col].apply(lambda v: v[0:followup_len])"
   ]
  },
  {
   "cell_type": "code",
   "execution_count": null,
   "id": "66aa925b",
   "metadata": {},
   "outputs": [],
   "source": [
    "eGFR_followups_df_s.shape"
   ]
  },
  {
   "cell_type": "code",
   "execution_count": null,
   "id": "f10a360a",
   "metadata": {},
   "outputs": [],
   "source": [
    "traj_followups_df_s.shape"
   ]
  },
  {
   "cell_type": "code",
   "execution_count": null,
   "id": "e6d560dd",
   "metadata": {},
   "outputs": [],
   "source": [
    "eGFR_pids = eGFR_followups_df_s[PID].unique()\n",
    "traj_pids = traj_followups_df_s[PID].unique()"
   ]
  },
  {
   "cell_type": "code",
   "execution_count": null,
   "id": "76ca30cf",
   "metadata": {},
   "outputs": [],
   "source": [
    "len(set(eGFR_pids) - set(traj_pids))"
   ]
  },
  {
   "cell_type": "markdown",
   "id": "93ba8cbe",
   "metadata": {},
   "source": [
    "##  KM estimator"
   ]
  },
  {
   "cell_type": "markdown",
   "id": "cdfc8073",
   "metadata": {},
   "source": [
    "### raw "
   ]
  },
  {
   "cell_type": "code",
   "execution_count": null,
   "id": "0d37bb41",
   "metadata": {
    "scrolled": false
   },
   "outputs": [],
   "source": [
    "# %%time\n",
    "# KM_estimator_for_params(cohort_df, GRP_LIST)"
   ]
  },
  {
   "cell_type": "markdown",
   "id": "b99a35a2",
   "metadata": {},
   "source": [
    "### IPTW"
   ]
  },
  {
   "cell_type": "code",
   "execution_count": null,
   "id": "7b68728d",
   "metadata": {},
   "outputs": [],
   "source": [
    "def KM_IPTW(cohort_df, baseline_vars_df):\n",
    "\n",
    "    ps_positivity_dict = estimate_propensity_score(baseline_vars_df, \n",
    "                                                   comp_list = ['class_ACEI'])\n",
    "    \n",
    "    bc_comp_dict = profile_comparison_IPTW(baseline_vars_df, ps_positivity_dict)\n",
    "    SMD_visualization(bc_comp_dict, followup_yrs = None)\n",
    "    \n",
    "    #extract input data for KM\n",
    "    for pair, ps_df in ps_positivity_dict.items():\n",
    "        \n",
    "        Y_df = cohort_df[[PID, 'event', 'dur']]\n",
    "        joined_df = Y_df.merge(ps_df, how = 'inner', left_on = PID, right_on = PID)\n",
    "        \n",
    "        KM_input_dict = {}\n",
    "        grps = joined_df[GRP_COL].unique()\n",
    "        for grp in grps:\n",
    "            df = joined_df.loc[joined_df[GRP_COL] == grp, :]\n",
    "            grp_KM_dict = {'events': df['event'].values, \n",
    "                           'durations': df['dur'].values,\n",
    "                           'weights': df['ps_w'].values}\n",
    "        \n",
    "            KM_input_dict[grp] = grp_KM_dict\n",
    "            \n",
    "        #visualization\n",
    "        KM_fit_and_visualization(KM_input_dict)\n",
    "\n",
    "    return bc_comp_dict"
   ]
  },
  {
   "cell_type": "code",
   "execution_count": null,
   "id": "082d7010",
   "metadata": {
    "scrolled": false
   },
   "outputs": [],
   "source": [
    "bc_comp_dict = KM_IPTW(cohort_df, baseline_vars_df)"
   ]
  },
  {
   "cell_type": "markdown",
   "id": "2299c39a",
   "metadata": {},
   "source": [
    "## Cox"
   ]
  },
  {
   "cell_type": "markdown",
   "id": "87f5e434",
   "metadata": {},
   "source": [
    "### raw"
   ]
  },
  {
   "cell_type": "code",
   "execution_count": null,
   "id": "0df94650",
   "metadata": {},
   "outputs": [],
   "source": [
    "# %%time\n",
    "# Cox_for_multiple_events(baseline_vars_df, cohort_df)"
   ]
  },
  {
   "cell_type": "markdown",
   "id": "0061c551",
   "metadata": {},
   "source": [
    "### ps-stratification"
   ]
  },
  {
   "cell_type": "code",
   "execution_count": null,
   "id": "65bb3521",
   "metadata": {},
   "outputs": [],
   "source": [
    "# %%time\n",
    "# ps_positivity_dict = ps_computation(baseline_vars_df)"
   ]
  },
  {
   "cell_type": "code",
   "execution_count": null,
   "id": "73d04d1d",
   "metadata": {
    "scrolled": true
   },
   "outputs": [],
   "source": [
    "# %%time\n",
    "# Cox_strata_for_multiple_events(ps_positivity_dict, cohort_df, dummies_prefixes)"
   ]
  },
  {
   "cell_type": "markdown",
   "id": "39ff081c",
   "metadata": {},
   "source": [
    "### ps-matching"
   ]
  },
  {
   "cell_type": "code",
   "execution_count": null,
   "id": "0f403ced",
   "metadata": {
    "scrolled": false
   },
   "outputs": [],
   "source": [
    "# %%time\n",
    "# Cox_ps_matching_for_multiple_events(ps_positivity_dict, cohort_df, dummies_prefixes)"
   ]
  },
  {
   "cell_type": "markdown",
   "id": "a6838648",
   "metadata": {},
   "source": [
    "###  IPTW"
   ]
  },
  {
   "cell_type": "code",
   "execution_count": null,
   "id": "252649fb",
   "metadata": {},
   "outputs": [],
   "source": [
    "def Cox_IPTW(cohort_df, baseline_vars_df):\n",
    "    \n",
    "    #predefined X_cols\n",
    "    X_cols = ['gender_Male', 'race_Indian', 'race_Malay',\n",
    "           'race_OthersX', 'Age', 'DM_diag', 'HLD_diag', 'Macrovascular_diag',\n",
    "           'Eye_diag', 'Foot_diag', 'Kidney_diag', 'BP_S', 'BP_D', 'HbA1c', 'LDL',\n",
    "           'BMI', 'DM_biguanides', 'DM_sulfonylureas', 'DM_dpp4_inhibitors',\n",
    "           'DM_insulin', 'DM_alpha_glucosidase_inhibitors',\n",
    "           'HLD_hmgcoa_reductase_inhibitors', 'HLD_fibric_acid_derivatives',\n",
    "           'HLD_cholesterol_absorption_inhibitors', 'HLD_bile_acid_sequestrants']\n",
    "    \n",
    "    if eGFR_OPTION == 'stage':\n",
    "        X_cols = X_cols + ['eGFR_stage_2', 'eGFR_stage_3', 'eGFR_stage_4', 'eGFR_stage_5']\n",
    "    else:\n",
    "        X_cols = X_cols + ['eGFR']\n",
    "\n",
    "    ps_positivity_dict = estimate_propensity_score(baseline_vars_df, \n",
    "                                                  comp_list = ['ACEIs','ARBs'])\n",
    "    \n",
    "    bc_comp_dict = profile_comparison_IPTW(baseline_vars_df, ps_positivity_dict)\n",
    "    SMD_visualization(bc_comp_dict, followup_yrs = None)\n",
    "    \n",
    "    res_dict = {}\n",
    "    for pair, ps_df in ps_positivity_dict.items():\n",
    "        \n",
    "        #extract and combine data\n",
    "        X_df = baseline_vars_df[[PID]+X_cols]\n",
    "        Y_df = cohort_df[[PID, 'dur', 'event']]\n",
    "\n",
    "        joined_df = join_df_list_on_same_key([X_df, Y_df, ps_df], \n",
    "                                             key_list = [PID], \n",
    "                                             how='inner')\n",
    "        joined_df[pair[1]] = (joined_df[GRP_COL] == pair[1]).astype(int)\n",
    "        joined_df.drop([PID, GRP_COL, 'ps'], axis = 1, inplace = True)\n",
    "        \n",
    "        #drop the columns in X_cols if variance = 0\\\n",
    "        X_var = joined_df[X_cols].astype('float64').var(axis = 0)\n",
    "        var0_cols = list(X_var[X_var == 0].index)\n",
    "        joined_df.drop(var0_cols, axis = 1, inplace = True)\n",
    "        \n",
    "        #fit into the model\n",
    "        cph = CoxPHFitter(penalizer=0.2)\n",
    "        cph.fit(joined_df, duration_col = 'dur', event_col = 'event', weights_col = 'ps_w')\n",
    "        \n",
    "        summary_df = cph.summary.reset_index()\\\n",
    "                                . rename(columns = {'exp(coef)': 'HR',\n",
    "                                                   'exp(coef) lower 95%': 'CI_lower', \n",
    "                                                   'exp(coef) upper 95%': 'CI_upper', \n",
    "                                                   'p': 'P'})\\\n",
    "                                .loc[:,['covariate', 'HR', 'CI_lower', 'CI_upper', 'P']]\n",
    "        \n",
    "        res_dict[pair] = summary_df\n",
    "        \n",
    "    #extract the HR for compartor\n",
    "    row_list = []\n",
    "    for pair, summary_df in res_dict.items():\n",
    "        comp_row = summary_df.loc[summary_df['covariate'] == pair[1], :].rename(columns = {'covariate': 'comp'})\n",
    "        comp_row['base'] = pair[0]\n",
    "        row_list.append(comp_row)\n",
    "    comp_HR_df = pd.concat(row_list, axis = 0).reset_index(drop = True)\n",
    "    comp_HR_df = comp_HR_df[['base', 'comp', 'HR', 'CI_lower', 'CI_upper', 'P']]\n",
    "\n",
    "    return bc_comp_dict, res_dict, comp_HR_df"
   ]
  },
  {
   "cell_type": "code",
   "execution_count": null,
   "id": "59038e56",
   "metadata": {},
   "outputs": [],
   "source": [
    "baseline_vars_df.columns"
   ]
  },
  {
   "cell_type": "code",
   "execution_count": null,
   "id": "65a20bc7",
   "metadata": {
    "scrolled": true
   },
   "outputs": [],
   "source": [
    "%%time\n",
    "bc_comp_dict, res_dict, comp_HR_df = Cox_IPTW(cohort_df, baseline_vars_df)"
   ]
  },
  {
   "cell_type": "code",
   "execution_count": null,
   "id": "74a53abb",
   "metadata": {},
   "outputs": [],
   "source": [
    "comp_HR_df"
   ]
  },
  {
   "cell_type": "code",
   "execution_count": null,
   "id": "9e0b27a9",
   "metadata": {},
   "outputs": [],
   "source": [
    "df_dict_2_excel(bc_comp_dict, file_name = 'baseline_weighitng.xlsx')"
   ]
  },
  {
   "cell_type": "code",
   "execution_count": null,
   "id": "71af9f2f",
   "metadata": {},
   "outputs": [],
   "source": [
    "bc_comp_dict[('ACEI', 'ARB')]"
   ]
  },
  {
   "cell_type": "code",
   "execution_count": null,
   "id": "d7a9472f",
   "metadata": {},
   "outputs": [],
   "source": [
    "res_dict[('Others','class_ARB')].round(2)"
   ]
  },
  {
   "cell_type": "markdown",
   "id": "9f1ca924",
   "metadata": {},
   "source": [
    "# Sub-analysis by conditions\n",
    "\n",
    "**Input**:\n",
    "- `baseline_vars_df`: for data selection, and ps estimation\n",
    "- `cohort_df`: to obtain the survival labels\n",
    "- `conds`: to specify a set of selection condition. The default logical relationship between two conditions is AND. It is a list of cond_tuples. cond_tuple = (col, op, value)\n",
    "    - col: str\n",
    "    - op: str, e.g., '==', '<='\n",
    "    - value: bool/str/int/float/datetime\n",
    "\n",
    "**Output:**\n",
    "- For each (base, comp) pair, a forest plot is generated with visualized HR, 95% CI and P."
   ]
  },
  {
   "cell_type": "code",
   "execution_count": null,
   "id": "c75fbc88",
   "metadata": {},
   "outputs": [],
   "source": [
    "def selection_by_conds(df, conds):\n",
    "    \n",
    "    import operator\n",
    "    ops = {\n",
    "        '==': operator.eq,\n",
    "        '>': operator.gt,\n",
    "        '>=': operator.ge,\n",
    "        '<': operator.lt,\n",
    "        '<=': operator.le\n",
    "    }\n",
    "    \n",
    "    n = len(df)\n",
    "    mask = np.array([True] * n)\n",
    "    \n",
    "    for col, op, value in conds:\n",
    "        func = ops[op]\n",
    "        mask = mask & func(df[col], value)\n",
    "        \n",
    "    return df.loc[mask, :]"
   ]
  },
  {
   "cell_type": "code",
   "execution_count": null,
   "id": "ba72b60e",
   "metadata": {},
   "outputs": [],
   "source": [
    "def float2str_list(nums):\n",
    "    \n",
    "    return [\"{:.2f}\".format(i) for i in nums]"
   ]
  },
  {
   "cell_type": "code",
   "execution_count": null,
   "id": "e39e1224",
   "metadata": {},
   "outputs": [],
   "source": [
    "def forest_plot(df):\n",
    "    \n",
    "    import zepid\n",
    "    from zepid.graphics import EffectMeasurePlot\n",
    "    \n",
    "    base, comp = df.name\n",
    "    labels = df['cond'].values\n",
    "    HRs = float2str_list(df['HR'].values)\n",
    "    CI_lower = float2str_list(df['CI_lower'].values)\n",
    "    CI_upper = float2str_list(df['CI_upper'].values)\n",
    "\n",
    "    #mark the statistical significant on the label\n",
    "    P_values = df['P'].values\n",
    "    for i in range(0,len(labels)):\n",
    "        if P_values[i] < 0.05:\n",
    "            labels[i] += '*'\n",
    "        else:\n",
    "            labels[i] += ' '\n",
    "    \n",
    "    p = EffectMeasurePlot(label=labels, effect_measure=HRs, lcl=CI_lower, ucl=CI_upper)\n",
    "    p.labels(effectmeasure='HR')\n",
    "    p.labels(scale='log')\n",
    "    #t_adjuster: alignment of the tables, should be adjusted manually\n",
    "    ax=p.plot(figsize=(7,4), t_adjuster=0.02, max_value=1.5, min_value=0.7)\n",
    "    ax.set_xlabel(f'Favours {comp}              Favours {base} ', fontsize=10)\n",
    "    ax.spines['top'].set_visible(False)\n",
    "    ax.spines['right'].set_visible(False)\n",
    "    ax.spines['bottom'].set_visible(True)\n",
    "    ax.spines['left'].set_visible(False)\n",
    "#     plt.tight_layout()\n",
    "    plt.show()\n",
    "    \n",
    "    return"
   ]
  },
  {
   "cell_type": "code",
   "execution_count": null,
   "id": "67029b36",
   "metadata": {},
   "outputs": [],
   "source": [
    "def subanalysis_by_conds(cohort_df, baseline_vars_df, conds_dict):\n",
    "    \n",
    "    HR_df_list = []\n",
    "    for cond_name, conds in conds_dict.items():\n",
    "        \n",
    "        baseline_vars_df_s = selection_by_conds(baseline_vars_df, conds)\n",
    "        bc_comp_dict, res_dict, pair_HR_df = Cox_IPTW(cohort_df, baseline_vars_df_s)\n",
    "        pair_HR_df = pair_HR_df.round(2)\n",
    "        pair_HR_df['cond'] = cond_name\n",
    "        HR_df_list.append(pair_HR_df)\n",
    "        \n",
    "    comb_res = pd.concat(HR_df_list, axis = 0).reset_index(drop = True)\n",
    "    \n",
    "    comb_res.groupby(['base', 'comp']).apply(lambda df: forest_plot(df))\n",
    "\n",
    "    return comb_res"
   ]
  },
  {
   "cell_type": "code",
   "execution_count": null,
   "id": "6c7da3b6",
   "metadata": {
    "scrolled": false
   },
   "outputs": [],
   "source": [
    "if eGFR_OPTION == 'stage':\n",
    "    conds_dict = {\n",
    "        'Whole cohort': [],\n",
    "        'Male': [('gender_Male', '==', True)],\n",
    "        'Female': [('gender_Female', '==', True)],\n",
    "        'Age < 70': [('Age', '<', 70)],\n",
    "        'Age >= 70': [('Age', '>=', 70)],\n",
    "        'Systolic BP < 140': [('BP_S', '<', 140)],\n",
    "        'Systolic BP >= 140':  [('BP_S', '>=', 140)],\n",
    "        'CKD stage 1': [('eGFR_stage_1', '==', True)],\n",
    "        'CKD stage 2': [('eGFR_stage_2', '==', True)],\n",
    "        'CKD stage 3-5': [('eGFR_stage_1', '==', False), ('eGFR_stage_2', '==', False)],\n",
    "        'Diabetes Yes': [('DM_diag', '==', True)],\n",
    "        'Diabetes No': [('DM_diag', '==', False)],\n",
    "        'Kidney disease Yes': [('Kidney_diag', '==', True)],\n",
    "        'Kidney disease No': [('Kidney_diag', '==', False)],\n",
    "        'Marcovascular disease Yes': [('Macrovascular_diag', '==', True)],\n",
    "        'Marcovascular disease No': [('Macrovascular_diag', '==', False)]\n",
    "    }\n",
    "else:\n",
    "    conds_dict = {\n",
    "        'Whole cohort': [],\n",
    "        'Male': [('gender_Male', '==', True)],\n",
    "        'Female': [('gender_Female', '==', True)],\n",
    "        'Age < 70': [('Age', '<', 70)],\n",
    "        'Age >= 70': [('Age', '>=', 70)],\n",
    "        'Systolic BP < 140': [('BP_S', '<', 140)],\n",
    "        'Systolic BP >= 140':  [('BP_S', '>=', 140)],\n",
    "        'CKD stage 1': [('eGFR', '>=', 90)],\n",
    "        'CKD stage 2': [('eGFR', '>=', 60), ('eGFR', '<', 90)],\n",
    "        'CKD stage 3-5': [('eGFR', '<', 60)],\n",
    "        'Diabetes Yes': [('DM_diag', '==', True)],\n",
    "        'Diabetes No': [('DM_diag', '==', False)],\n",
    "        'Kidney disease Yes': [('Kidney_diag', '==', True)],\n",
    "        'Kidney disease No': [('Kidney_diag', '==', False)],\n",
    "        'Marcovascular disease Yes': [('Macrovascular_diag', '==', True)],\n",
    "        'Marcovascular disease No': [('Macrovascular_diag', '==', False)]\n",
    "    }\n",
    "\n",
    "comb_res = subanalysis_by_conds(cohort_df, baseline_vars_df, conds_dict)"
   ]
  },
  {
   "cell_type": "code",
   "execution_count": null,
   "id": "c7b3a0bd",
   "metadata": {},
   "outputs": [],
   "source": [
    "comb_res"
   ]
  },
  {
   "cell_type": "code",
   "execution_count": null,
   "id": "0ff30fe6",
   "metadata": {},
   "outputs": [],
   "source": [
    "comb_res.groupby(['base', 'comp']).apply(lambda df: forest_plot(df))"
   ]
  }
 ],
 "metadata": {
  "kernelspec": {
   "display_name": "base",
   "language": "python",
   "name": "base"
  },
  "language_info": {
   "codemirror_mode": {
    "name": "ipython",
    "version": 3
   },
   "file_extension": ".py",
   "mimetype": "text/x-python",
   "name": "python",
   "nbconvert_exporter": "python",
   "pygments_lexer": "ipython3",
   "version": "3.8.12"
  },
  "toc": {
   "base_numbering": 1,
   "nav_menu": {},
   "number_sections": true,
   "sideBar": true,
   "skip_h1_title": false,
   "title_cell": "Table of Contents",
   "title_sidebar": "Contents",
   "toc_cell": false,
   "toc_position": {
    "height": "calc(100% - 180px)",
    "left": "10px",
    "top": "150px",
    "width": "294px"
   },
   "toc_section_display": true,
   "toc_window_display": true
  },
  "varInspector": {
   "cols": {
    "lenName": 16,
    "lenType": 16,
    "lenVar": 40
   },
   "kernels_config": {
    "python": {
     "delete_cmd_postfix": "",
     "delete_cmd_prefix": "del ",
     "library": "var_list.py",
     "varRefreshCmd": "print(var_dic_list())"
    },
    "r": {
     "delete_cmd_postfix": ") ",
     "delete_cmd_prefix": "rm(",
     "library": "var_list.r",
     "varRefreshCmd": "cat(var_dic_list()) "
    }
   },
   "position": {
    "height": "398px",
    "left": "1575px",
    "right": "20px",
    "top": "120px",
    "width": "305px"
   },
   "types_to_exclude": [
    "module",
    "function",
    "builtin_function_or_method",
    "instance",
    "_Feature"
   ],
   "window_display": false
  }
 },
 "nbformat": 4,
 "nbformat_minor": 5
}
